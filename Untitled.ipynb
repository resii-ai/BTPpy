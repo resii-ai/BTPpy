{
 "cells": [
  {
   "cell_type": "code",
   "execution_count": 30,
   "metadata": {},
   "outputs": [],
   "source": [
    "import pandas as pd\n",
    "import matplotlib.pyplot as plt"
   ]
  },
  {
   "cell_type": "code",
   "execution_count": 2,
   "metadata": {},
   "outputs": [],
   "source": [
    "df = pd.DataFrame([[1,2,3,4]], columns=['a', 'b', 'v', 'w'])"
   ]
  },
  {
   "cell_type": "code",
   "execution_count": 3,
   "metadata": {},
   "outputs": [
    {
     "data": {
      "text/html": [
       "<div>\n",
       "<style scoped>\n",
       "    .dataframe tbody tr th:only-of-type {\n",
       "        vertical-align: middle;\n",
       "    }\n",
       "\n",
       "    .dataframe tbody tr th {\n",
       "        vertical-align: top;\n",
       "    }\n",
       "\n",
       "    .dataframe thead th {\n",
       "        text-align: right;\n",
       "    }\n",
       "</style>\n",
       "<table border=\"1\" class=\"dataframe\">\n",
       "  <thead>\n",
       "    <tr style=\"text-align: right;\">\n",
       "      <th></th>\n",
       "      <th>a</th>\n",
       "      <th>b</th>\n",
       "      <th>v</th>\n",
       "      <th>w</th>\n",
       "    </tr>\n",
       "  </thead>\n",
       "  <tbody>\n",
       "    <tr>\n",
       "      <th>0</th>\n",
       "      <td>1</td>\n",
       "      <td>2</td>\n",
       "      <td>3</td>\n",
       "      <td>4</td>\n",
       "    </tr>\n",
       "  </tbody>\n",
       "</table>\n",
       "</div>"
      ],
      "text/plain": [
       "   a  b  v  w\n",
       "0  1  2  3  4"
      ]
     },
     "execution_count": 3,
     "metadata": {},
     "output_type": "execute_result"
    }
   ],
   "source": [
    "df.head()"
   ]
  },
  {
   "cell_type": "code",
   "execution_count": 8,
   "metadata": {},
   "outputs": [
    {
     "data": {
      "text/plain": [
       "Text(0, 0.5, 'Pies Consumed')"
      ]
     },
     "execution_count": 8,
     "metadata": {},
     "output_type": "execute_result"
    },
    {
     "data": {
      "image/png": "[encoded data removed]",
      "text/plain": [
       "<Figure size 432x288 with 1 Axes>"
      ]
     },
     "metadata": {
      "needs_background": "light"
     },
     "output_type": "display_data"
    }
   ],
   "source": [
    "plotdata = pd.DataFrame({\n",
    "    \"pies_2018\":[40, 12, 10, 26, 36],\n",
    "    \"pies_2019\":[19, 8, 30, 21, 38],\n",
    "    \"pies_2020\":[10, 10, 42, 17, 37]\n",
    "    }, \n",
    "    index=[\"Dad\", \"Mam\", \"Bro\", \"Sis\", \"Me\"]\n",
    ")\n",
    "plotdata.plot(kind=\"bar\")\n",
    "plt.title(\"Mince Pie Consumption Study\")\n",
    "plt.xlabel(\"Family Member\")\n",
    "plt.ylabel(\"Pies Consumed\")"
   ]
  },
  {
   "cell_type": "code",
   "execution_count": 23,
   "metadata": {},
   "outputs": [],
   "source": [
    "durations = [[14.0, 12.0, 39.0, 3.0, 11.0, 19.0, 11.0, 21.0, 13.0, 33.0, 0.0], [34.0, 15.0, 47.0, 4.0, 13.0, 29.0, 14.0, 38.0, 19.0, 41.0, 0.0], [15.0, 11.0, 40.0, 4.0, 10.0, 21.0, 9.0, 28.0, 15.0, 42.0, 0.0], [10.0, 17.0, 51.0, 7.0, 9.0, 21.0, 10.0, 32.0, 17.0, 43.0, 0.0]]"
   ]
  },
  {
   "cell_type": "code",
   "execution_count": 24,
   "metadata": {},
   "outputs": [
    {
     "name": "stdout",
     "output_type": "stream",
     "text": [
      "[[1, 4, 2], [3], [6, 5], [8, 7], [9], [10]]\n"
     ]
    }
   ],
   "source": [
    "stTasks =  [[1, 4, 2], [3], [6, 5], [8, 7], [9], [10]]\n",
    "# stTasks.sort()\n",
    "print(stTasks)"
   ]
  },
  {
   "cell_type": "code",
   "execution_count": 25,
   "metadata": {},
   "outputs": [
    {
     "name": "stdout",
     "output_type": "stream",
     "text": [
      "4\n"
     ]
    }
   ],
   "source": [
    "num_models = len(durations)\n",
    "print(num_models)"
   ]
  },
  {
   "cell_type": "code",
   "execution_count": 26,
   "metadata": {},
   "outputs": [
    {
     "name": "stdout",
     "output_type": "stream",
     "text": [
      "6\n"
     ]
    }
   ],
   "source": [
    "num_stations = len(stTasks)\n",
    "print(num_stations)"
   ]
  },
  {
   "cell_type": "code",
   "execution_count": 27,
   "metadata": {},
   "outputs": [
    {
     "name": "stdout",
     "output_type": "stream",
     "text": [
      "{'Model 1': [], 'Model 2': [], 'Model 3': [], 'Model 4': []}\n"
     ]
    }
   ],
   "source": [
    "mp = dict()\n",
    "\n",
    "for i in range(num_models):\n",
    "    key = 'Model' + \" \" + str(i+1)\n",
    "    mp[key] = []\n",
    "    \n",
    "print(mp)"
   ]
  },
  {
   "cell_type": "code",
   "execution_count": 28,
   "metadata": {},
   "outputs": [
    {
     "name": "stdout",
     "output_type": "stream",
     "text": [
      "Current Station:  [1, 4, 2]\n",
      "Current Station:  [3]\n",
      "Current Station:  [6, 5]\n",
      "Current Station:  [8, 7]\n",
      "Current Station:  [9]\n",
      "Current Station:  [10]\n",
      "{'Model 1': [29.0, 39.0, 30.0, 32.0, 13.0, 33.0], 'Model 2': [53.0, 47.0, 42.0, 52.0, 19.0, 41.0], 'Model 3': [30.0, 40.0, 31.0, 37.0, 15.0, 42.0], 'Model 4': [34.0, 51.0, 30.0, 42.0, 17.0, 43.0]}\n"
     ]
    }
   ],
   "source": [
    "for i in range(num_stations):\n",
    "    curr = stTasks[i]\n",
    "    print('Current Station: ', curr)\n",
    "    for j in range(num_models):\n",
    "        mod = j+1\n",
    "        key = 'Model' + ' ' + str(mod)\n",
    "        model_time = 0\n",
    "        for k in range(len(curr)):\n",
    "            task = curr[k]\n",
    "            model_time += durations[j][task-1]\n",
    "        \n",
    "        mp[key].append(model_time)\n",
    "        \n",
    "print(mp)"
   ]
  },
  {
   "cell_type": "code",
   "execution_count": 32,
   "metadata": {},
   "outputs": [
    {
     "name": "stdout",
     "output_type": "stream",
     "text": [
      "['1', '2', '3', '4', '5', '6']\n"
     ]
    }
   ],
   "source": [
    "station_idx = [str(i+1) for i in range(num_stations)]\n",
    "print(station_idx)"
   ]
  },
  {
   "cell_type": "code",
   "execution_count": 33,
   "metadata": {},
   "outputs": [
    {
     "data": {
      "text/plain": [
       "Text(0, 0.5, 'Task Times')"
      ]
     },
     "execution_count": 33,
     "metadata": {},
     "output_type": "execute_result"
    },
    {
     "data": {
      "image/png": "[encoded data removed]",
      "text/plain": [
       "<Figure size 432x288 with 1 Axes>"
      ]
     },
     "metadata": {
      "needs_background": "light"
     },
     "output_type": "display_data"
    }
   ],
   "source": [
    "plotdata = pd.DataFrame(mp, \n",
    "    index= station_idx\n",
    ")\n",
    "plotdata.plot(kind=\"bar\")\n",
    "plt.title(\"Workload\")\n",
    "plt.xlabel(\"Workstations\")\n",
    "plt.ylabel(\"Task Times\")"
   ]
  },
  {
   "cell_type": "code",
   "execution_count": null,
   "metadata": {},
   "outputs": [],
   "source": []
  },
  {
   "cell_type": "code",
   "execution_count": null,
   "metadata": {},
   "outputs": [],
   "source": []
  },
  {
   "cell_type": "code",
   "execution_count": null,
   "metadata": {},
   "outputs": [],
   "source": []
  },
  {
   "cell_type": "code",
   "execution_count": 5,
   "metadata": {},
   "outputs": [
    {
     "name": "stdout",
     "output_type": "stream",
     "text": [
      "Requirement already satisfied: networkx in c:\\python39\\lib\\site-packages (2.5)\n",
      "Requirement already satisfied: decorator>=4.3.0 in c:\\users\\ajink\\appdata\\roaming\\python\\python39\\site-packages (from networkx) (4.4.2)\n"
     ]
    },
    {
     "name": "stderr",
     "output_type": "stream",
     "text": [
      "WARNING: You are using pip version 20.2.3; however, version 21.0.1 is available.\n",
      "You should consider upgrading via the 'c:\\python39\\python.exe -m pip install --upgrade pip' command.\n"
     ]
    }
   ],
   "source": [
    "!pip install networkx"
   ]
  },
  {
   "cell_type": "code",
   "execution_count": 21,
   "metadata": {},
   "outputs": [
    {
     "data": {
      "image/png": "[encoded data removed]",
      "text/plain": [
       "<Figure size 432x288 with 1 Axes>"
      ]
     },
     "metadata": {},
     "output_type": "display_data"
    }
   ],
   "source": [
    "\n",
    "# First networkx library is imported  \n",
    "# along with matplotlib \n",
    "import networkx as nx \n",
    "import matplotlib.pyplot as plt \n",
    "   \n",
    "  \n",
    "# Defining a Class \n",
    "class GraphVisualization: \n",
    "   \n",
    "    def __init__(self): \n",
    "          \n",
    "        # visual is a list which stores all  \n",
    "        # the set of edges that constitutes a \n",
    "        # graph \n",
    "        self.visual = [] \n",
    "          \n",
    "    # addEdge function inputs the vertices of an \n",
    "    # edge and appends it to the visual list \n",
    "    def addEdge(self, a, b): \n",
    "        temp = [a, b] \n",
    "        self.visual.append(temp) \n",
    "          \n",
    "    # In visualize function G is an object of \n",
    "    # class Graph given by networkx G.add_edges_from(visual) \n",
    "    # creates a graph with a given list \n",
    "    # nx.draw_networkx(G) - plots the graph \n",
    "    # plt.show() - displays the graph \n",
    "    def visualize(self): \n",
    "        G = nx.Graph() \n",
    "        G.add_edges_from(self.visual) \n",
    "        nx.draw_networkx(G) \n",
    "        plt.show() \n",
    "  \n",
    "# Driver code \n",
    "G = GraphVisualization() \n",
    "G.addEdge(0, 2) \n",
    "G.addEdge(1, 2) \n",
    "G.addEdge(1, 3) \n",
    "G.addEdge(5, 3) \n",
    "G.addEdge(3, 4) \n",
    "G.addEdge(1, 0) \n",
    "G.visualize() "
   ]
  },
  {
   "cell_type": "code",
   "execution_count": 20,
   "metadata": {},
   "outputs": [
    {
     "data": {
      "image/png": "[encoded data removed]",
      "text/plain": [
       "<Figure size 432x288 with 1 Axes>"
      ]
     },
     "metadata": {},
     "output_type": "display_data"
    }
   ],
   "source": [
    "G = GraphVisualization() \n",
    "G.addEdge(1,6)\n",
    "G.addEdge(2,7)\n",
    "G.addEdge(4,8)\n",
    "G.addEdge(5,9)\n",
    "G.addEdge(6,10)\n",
    "G.addEdge(7,11)\n",
    "G.addEdge(8,12)\n",
    "G.addEdge(10,13)\n",
    "G.addEdge(11,13)\n",
    "G.addEdge(12,14)\n",
    "G.addEdge(12,15)\n",
    "G.addEdge(13,16)\n",
    "G.addEdge(13,17)\n",
    "G.addEdge(13,18)\n",
    "G.addEdge(14,20)\n",
    "G.addEdge(15,19)\n",
    "G.visualize() "
   ]
  },
  {
   "cell_type": "code",
   "execution_count": null,
   "metadata": {},
   "outputs": [],
   "source": []
  },
  {
   "cell_type": "code",
   "execution_count": null,
   "metadata": {},
   "outputs": [],
   "source": []
  }
 ],
 "metadata": {
  "kernelspec": {
   "display_name": "Python 3",
   "language": "python",
   "name": "python3"
  },
  "language_info": {
   "codemirror_mode": {
    "name": "ipython",
    "version": 3
   },
   "file_extension": ".py",
   "mimetype": "text/x-python",
   "name": "python",
   "nbconvert_exporter": "python",
   "pygments_lexer": "ipython3",
   "version": "3.7.6"
  }
 },
 "nbformat": 4,
 "nbformat_minor": 4
}
